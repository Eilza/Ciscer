{
 "cells": [
  {
   "cell_type": "markdown",
   "metadata": {},
   "source": [
    "# Парсер ответов\n",
    "Использование:\n",
    "Исправить строчку \n",
    "```python\n",
    "doc = parse([url]).getroot()\n",
    "```\n",
    "Вставив вместо [url] адрес страницы, содержащей ответы.\n",
    "\n",
    "### Осторожно! Парсер работает не идеально, поэтому проверяйте ответы: открытые, многострочные и с иллюстрациями. Их приходится парсить вручную.\n",
    "### Так же желательно проверить разметку сайта перед использованием и при необходимости исправить нужным образом строчку \n",
    "```python\n",
    "doc = parse([url]).getroot()\n",
    "```"
   ]
  },
  {
   "cell_type": "code",
   "execution_count": 32,
   "metadata": {
    "collapsed": false
   },
   "outputs": [],
   "source": [
    "Answers = list()\n",
    "from lxml.html import parse\n",
    "import re\n",
    "doc = parse('http://www.ccna5.net/ccna1-v6-0-chapter-4-exam-answers-2017-100/3595').getroot()\n",
    "\n",
    "\n",
    "for div in doc.cssselect('strong,h3'):\n",
    "    #print(div.text_content())\n",
    "    x = str(div.text_content())\n",
    "    x = re.sub('[\\n\\t(\\xa0)(\\u200b)]','',x)\n",
    "    #print(re.search('[\\?\\*]',x))\n",
    "    if not re.search('[\\?\\*]',x):\n",
    "    #if x.find('?') == -1 and x.find('*') == -1:\n",
    "        continue\n",
    "    if not x.isspace():\n",
    "        Answers.append(x)"
   ]
  },
  {
   "cell_type": "code",
   "execution_count": 33,
   "metadata": {
    "collapsed": false
   },
   "outputs": [
    {
     "name": "stdout",
     "output_type": "stream",
     "text": [
      "[['1. What are two reasons for physical layer protocols to use frame encoding techniques? Choose two.', 'to distinguish data bits from control bits', 'to identify where the frame starts and ends'], ['2. What is indicated by the term throughput?', 'the measure of the bits transferred across the media over a given period of time'], ['3. A network administrator notices that some newly installed Ethernet cabling is carrying corrupt and distorted data signals. The new cabling was installed in the ceiling close to fluorescent lights and electrical equipment. Which two factors may interfere with the copper cabling and result in signal distortion and data corruption? Choose two.', 'EMI', 'RFI'], ['4. Which characteristic describes crosstalk?', 'the distortion of the transmitted messages from signals carried in adjacent wires'], ['5. What technique is used with UTP cable to help protect against signal interference from crosstalk?', 'twisting the wires together into pairs'], ['6. Refer to the exhibit. The PC is connected to the console port of the switch. All the other connections are made through FastEthernet links. Which types of UTP cables can be used to connect the devices?', '1 – rollover, 2 – straight-through, 3 – crossover'], ['7. Refer to the exhibit. What is wrong with the displayed termination?', 'The untwisted length of each wire is too long.'], ['8. Which type of connector does a network interface card use?', 'RJ-45'], ['9. What is one advantage of using fiber optic cabling rather than copper cabling?', 'It is able to carry signals much farther than copper cabling.'], ['10. Why are two strands of fiber used for a single fiber optic connection?', 'They allow for full-duplex connectivity.'], ['11. A network administrator is designing the layout of a new wireless network. Which three areas of concern should be accounted for when building a wireless network? Choose three.', 'security', 'interference', 'coverage area'], ['12. Which layer of the OSI model is responsible for specifying the encapsulation method used for specific types of media?', 'data link'], ['13. What are two services performed by the data link layer of the OSI model? Choose two.', 'It accepts Layer 3 packets and encapsulates them into frames.', 'It provides media access control and performs error detection.'], ['14. What is true concerning physical and logical topologies?', 'Logical topologies refer to how a network transfers data between devices.'], ['15. Which method of data transfer allows information to be sent and received at the same time?', 'full duplex'], ['16. Which statement describes an extended star topology?', 'End devices connect to a central intermediate device, which in turn connects to other central intermediate devices.'], ['17. Refer to the exhibit. Which statement describes the media access control methods that are used by the networks in the exhibit?', 'Network 1 uses CSMA/CD and Network 3 uses CSMA/CA.'], ['18. What is contained in the trailer of a data-link frame?', 'error detection'], ['19. As data travels on the media in a stream of 1s and 0s how does a receiving node identify the beginning and end of a frame?', 'The transmitting node inserts start and stop bits into the frame.'], ['20. What is the function of the CRC value that is found in the FCS field of a frame?', 'to verify the integrity of the received frame'], ['What acronym is used to reference the data link sublayer that identifies the network layer protocol encapsulated in the frame? LLC']]\n"
     ]
    }
   ],
   "source": [
    "answList = list()\n",
    "for i in Answers:\n",
    "    if i.find('?') > 0:\n",
    "        answ = list()\n",
    "        answList.append(answ)\n",
    "        answ.append(i)\n",
    "    else:\n",
    "        answ.append(i.replace('*',''))\n",
    "print(answList)"
   ]
  },
  {
   "cell_type": "code",
   "execution_count": 34,
   "metadata": {
    "collapsed": false
   },
   "outputs": [],
   "source": [
    "#answList\n",
    "#for answ in answList:\n",
    "#    for token in answ:\n",
    "        "
   ]
  },
  {
   "cell_type": "code",
   "execution_count": 35,
   "metadata": {
    "collapsed": false
   },
   "outputs": [
    {
     "name": "stdout",
     "output_type": "stream",
     "text": [
      "add('1. What are two reasons for physical layer protocols to use frame encoding techniques? Choose two.', 'to distinguish data bits from control bits', 'to identify where the frame starts and ends');\n",
      "add('2. What is indicated by the term throughput?', 'the measure of the bits transferred across the media over a given period of time');\n",
      "add('3. A network administrator notices that some newly installed Ethernet cabling is carrying corrupt and distorted data signals. The new cabling was installed in the ceiling close to fluorescent lights and electrical equipment. Which two factors may interfere with the copper cabling and result in signal distortion and data corruption? Choose two.', 'EMI', 'RFI');\n",
      "add('4. Which characteristic describes crosstalk?', 'the distortion of the transmitted messages from signals carried in adjacent wires');\n",
      "add('5. What technique is used with UTP cable to help protect against signal interference from crosstalk?', 'twisting the wires together into pairs');\n",
      "add('6. Refer to the exhibit. The PC is connected to the console port of the switch. All the other connections are made through FastEthernet links. Which types of UTP cables can be used to connect the devices?', '1 – rollover, 2 – straight-through, 3 – crossover');\n",
      "add('7. Refer to the exhibit. What is wrong with the displayed termination?', 'The untwisted length of each wire is too long.');\n",
      "add('8. Which type of connector does a network interface card use?', 'RJ-45');\n",
      "add('9. What is one advantage of using fiber optic cabling rather than copper cabling?', 'It is able to carry signals much farther than copper cabling.');\n",
      "add('10. Why are two strands of fiber used for a single fiber optic connection?', 'They allow for full-duplex connectivity.');\n",
      "add('11. A network administrator is designing the layout of a new wireless network. Which three areas of concern should be accounted for when building a wireless network? Choose three.', 'security', 'interference', 'coverage area');\n",
      "add('12. Which layer of the OSI model is responsible for specifying the encapsulation method used for specific types of media?', 'data link');\n",
      "add('13. What are two services performed by the data link layer of the OSI model? Choose two.', 'It accepts Layer 3 packets and encapsulates them into frames.', 'It provides media access control and performs error detection.');\n",
      "add('14. What is true concerning physical and logical topologies?', 'Logical topologies refer to how a network transfers data between devices.');\n",
      "add('15. Which method of data transfer allows information to be sent and received at the same time?', 'full duplex');\n",
      "add('16. Which statement describes an extended star topology?', 'End devices connect to a central intermediate device, which in turn connects to other central intermediate devices.');\n",
      "add('17. Refer to the exhibit. Which statement describes the media access control methods that are used by the networks in the exhibit?', 'Network 1 uses CSMA/CD and Network 3 uses CSMA/CA.');\n",
      "add('18. What is contained in the trailer of a data-link frame?', 'error detection');\n",
      "add('19. As data travels on the media in a stream of 1s and 0s how does a receiving node identify the beginning and end of a frame?', 'The transmitting node inserts start and stop bits into the frame.');\n",
      "add('20. What is the function of the CRC value that is found in the FCS field of a frame?', 'to verify the integrity of the received frame');\n",
      "add('What acronym is used to reference the data link sublayer that identifies the network layer protocol encapsulated in the frame? LLC',);\n"
     ]
    }
   ],
   "source": [
    "for i in answList:\n",
    "    print('add',tuple(i),';', sep='')"
   ]
  }
 ],
 "metadata": {
  "kernelspec": {
   "display_name": "Python 3",
   "language": "python",
   "name": "python3"
  },
  "language_info": {
   "codemirror_mode": {
    "name": "ipython",
    "version": 3
   },
   "file_extension": ".py",
   "mimetype": "text/x-python",
   "name": "python",
   "nbconvert_exporter": "python",
   "pygments_lexer": "ipython3",
   "version": "3.5.2+"
  }
 },
 "nbformat": 4,
 "nbformat_minor": 0
}
