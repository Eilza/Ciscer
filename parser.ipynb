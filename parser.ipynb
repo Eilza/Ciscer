{
 "cells": [
  {
   "cell_type": "markdown",
   "metadata": {
    "deletable": true,
    "editable": true
   },
   "source": [
    "# Парсер ответов\n",
    "Использование:\n",
    "Исправить строчку \n",
    "```python\n",
    "doc = parse([url]).getroot()\n",
    "```\n",
    "Вставив вместо [url] адрес страницы, содержащей ответы.\n",
    "\n",
    "### Осторожно! Парсер работает не идеально, поэтому проверяйте ответы: открытые, многострочные и с иллюстрациями. Их приходится парсить вручную.\n",
    "### Так же желательно проверить разметку сайта перед использованием и при необходимости исправить нужным образом строчку \n",
    "```python\n",
    "doc = parse([url]).getroot()\n",
    "```"
   ]
  },
  {
   "cell_type": "code",
   "execution_count": 5,
   "metadata": {
    "collapsed": false,
    "deletable": true,
    "editable": true
   },
   "outputs": [],
   "source": [
    "Answers = list()\n",
    "from lxml.html import parse\n",
    "import re\n",
    "doc = parse('http://www.ccna5.net/ccna2-v6-0-chapter-7-exam-answers-2017/3664').getroot()\n",
    "\n",
    "\n",
    "for div in doc.cssselect('strong,h3'):\n",
    "    #print(div.text_content())\n",
    "    x = str(div.text_content())\n",
    "    x = re.sub('[\\n\\t(\\xa0)(\\u200b)]','',x)\n",
    "    #print(re.search('[\\?\\*]',x))\n",
    "    if not re.search('[\\?\\*]',x):\n",
    "    #if x.find('?') == -1 and x.find('*') == -1:\n",
    "        continue\n",
    "    if not x.isspace():\n",
    "        Answers.append(x)"
   ]
  },
  {
   "cell_type": "code",
   "execution_count": 6,
   "metadata": {
    "collapsed": false,
    "deletable": true,
    "editable": true
   },
   "outputs": [
    {
     "name": "stdout",
     "output_type": "stream",
     "text": [
      "[['1. In which configuration would an outbound ACL placement be preferred over an inbound ACL placement?', 'when the ACL is applied to an outbound interface to filter packets coming from multiple inbound interfaces before the packets exit the interface'], ['2. Which address is required in the command syntax of a standard ACL?', 'source IP address'], ['3. Which statement describes a difference between the operation of inbound and outbound ACLs?', 'Inbound ACLs are processed before the packets are routed while outbound ACLs are processed after the routing is completed.'], ['4. Which three statements describe ACL processing of packets? Choose three.', 'An implicit deny any rejects any packet that does not match any ACE.', 'A packet can either be rejected or forwarded as directed by the ACE that is matched.', 'Each statement is checked only until a match is detected or until the end of the ACE list.'], ['5. What single access list statement matches all of the following networks?', 'access-list 10 permit 192.168.16.0 0.0.3.255'], ['6. A network administrator needs to configure a standard ACL so that only the workstation of the administrator with the IP address 192.168.15.23 can access the virtual terminal of the main router. Which two configuration commands can achieve the task? Choose two.', 'Router1config# access-list 10 permit host 192.168.15.23', 'Router1config# access-list 10 permit 192.168.15.23 0.0.0.0'], ['7. If a router has two interfaces and is routing both IPv4 and IPv6 traffic, how many ACLs could be created and applied to it?', '8'], ['8. Which three statements are generally considered to be best practices in the placement of ACLs? Choose three.', 'Filter unwanted traffic before it travels onto a low-bandwidth link.', 'Place extended ACLs close to the source IP address of the traffic.', 'Place standard ACLs close to the destination IP address of the traffic.'], ['9. Refer to the exhibit. Which command would be used in a standard ACL to allow only devices on the network attached to R2 G0/0 interface to access the networks attached to R1?', 'access-list 1 permit 192.168.10.96 0.0.0.31'], ['10. Refer to the exhibit. If the network administrator created a standard ACL that allows only devices that connect to the R2 G0/0 network access to the devices on the R1 G0/1 interface, how should the ACL be applied?', 'outbound on the R1 G0/1 interface'], ['11. Refer to the following output. What is the significance of the 4 matches statement?', 'Four packets have been allowed through the router from PCs in the network of 192.168.1.64.'], ['12. On which router should the show access-lists command be executed?', 'on the router that has the ACL configured'], ['13. What is the quickest way to remove a single ACE from a named ACL?', 'Use the no keyword and the sequence number of the ACE to be removed.'], ['14. Which feature will require the use of a named standard ACL rather than a numbered standard ACL?', 'the ability to add additional ACEs in the middle of the ACL without deleting and re-creating the list'], ['15. An administrator has configured an access list on R1 to allow SSH administrative access from host 172.16.1.100. Which command correctly applies the ACL?', 'R1config-line# access-class 1 in'], ['16. Which type of router connection can be secured by the access-class command?', 'vty'], ['17. Consider the following output for an ACL that has been applied to a router via the access-class in command. What can a network administrator determine from the output that is shown?', 'Two devices were able to use SSH or Telnet to gain access to the router.'], ['18. Refer to the exhibit. A router has an existing ACL that permits all traffic from the 172.16.0.0 network. The administrator attempts to add a new ACE to the ACL that denies packets from host 172.16.0.1 and receives the error message that is shown in the exhibit. What action can the administrator take to block packets from host 172.16.0.1 while still permitting all other traffic from the 172.16.0.0 network?', 'Manually add the new deny ACE with a sequence number of 5.'], ['19. Refer to the exhibit. An ACL was configured on R1 with the intention of denying traffic from subnet 172.16.4.0/24 into subnet 172.16.3.0/24. All other traffic into subnet 172.16.3.0/24 should be permitted. This standard ACL was then applied outbound on interface Fa0/0. Which conclusion can be drawn from this configuration?', 'All traffic will be blocked, not just traffic from the 172.16.4.0/24 subnet.'], ['20. Refer to the exhibit. What will happen to the access list 10 ACEs if the router is rebooted before any other commands are implemented?', 'The ACEs of access list 10 will be renumbered.'], ['21. What is the effect of configuring an ACL with only ACEs that deny traffic?', 'The ACL will block all traffic.'], ['22. Which type of ACL statements are commonly reordered by the Cisco IOS as the first ACEs?', 'host'], ['23. A network administrator is configuring an ACL to restrict access to certain servers in the data center. The intent is to apply the ACL to the interface connected to the data center LAN. What happens if the ACL is incorrectly applied to an interface in the inbound direction instead of the outbound direction?', 'The ACL does not perform as designed.'], ['24. When would a network administrator use the clear access-list counters command?', 'when troubleshooting an ACL and needing to know how many packets matched']]\n"
     ]
    }
   ],
   "source": [
    "answList = list()\n",
    "for i in Answers:\n",
    "    if i.find('?') > 0:\n",
    "        answ = list()\n",
    "        answList.append(answ)\n",
    "        answ.append(i)\n",
    "    else:\n",
    "        answ.append(i.replace('*',''))\n",
    "print(answList)"
   ]
  },
  {
   "cell_type": "code",
   "execution_count": 7,
   "metadata": {
    "collapsed": false,
    "deletable": true,
    "editable": true
   },
   "outputs": [],
   "source": [
    "#answList\n",
    "#for answ in answList:\n",
    "#    for token in answ:\n",
    "        "
   ]
  },
  {
   "cell_type": "code",
   "execution_count": 8,
   "metadata": {
    "collapsed": false,
    "deletable": true,
    "editable": true
   },
   "outputs": [
    {
     "name": "stdout",
     "output_type": "stream",
     "text": [
      "add('1. In which configuration would an outbound ACL placement be preferred over an inbound ACL placement?', 'when the ACL is applied to an outbound interface to filter packets coming from multiple inbound interfaces before the packets exit the interface');\n",
      "add('2. Which address is required in the command syntax of a standard ACL?', 'source IP address');\n",
      "add('3. Which statement describes a difference between the operation of inbound and outbound ACLs?', 'Inbound ACLs are processed before the packets are routed while outbound ACLs are processed after the routing is completed.');\n",
      "add('4. Which three statements describe ACL processing of packets? Choose three.', 'An implicit deny any rejects any packet that does not match any ACE.', 'A packet can either be rejected or forwarded as directed by the ACE that is matched.', 'Each statement is checked only until a match is detected or until the end of the ACE list.');\n",
      "add('5. What single access list statement matches all of the following networks?', 'access-list 10 permit 192.168.16.0 0.0.3.255');\n",
      "add('6. A network administrator needs to configure a standard ACL so that only the workstation of the administrator with the IP address 192.168.15.23 can access the virtual terminal of the main router. Which two configuration commands can achieve the task? Choose two.', 'Router1config# access-list 10 permit host 192.168.15.23', 'Router1config# access-list 10 permit 192.168.15.23 0.0.0.0');\n",
      "add('7. If a router has two interfaces and is routing both IPv4 and IPv6 traffic, how many ACLs could be created and applied to it?', '8');\n",
      "add('8. Which three statements are generally considered to be best practices in the placement of ACLs? Choose three.', 'Filter unwanted traffic before it travels onto a low-bandwidth link.', 'Place extended ACLs close to the source IP address of the traffic.', 'Place standard ACLs close to the destination IP address of the traffic.');\n",
      "add('9. Refer to the exhibit. Which command would be used in a standard ACL to allow only devices on the network attached to R2 G0/0 interface to access the networks attached to R1?', 'access-list 1 permit 192.168.10.96 0.0.0.31');\n",
      "add('10. Refer to the exhibit. If the network administrator created a standard ACL that allows only devices that connect to the R2 G0/0 network access to the devices on the R1 G0/1 interface, how should the ACL be applied?', 'outbound on the R1 G0/1 interface');\n",
      "add('11. Refer to the following output. What is the significance of the 4 matches statement?', 'Four packets have been allowed through the router from PCs in the network of 192.168.1.64.');\n",
      "add('12. On which router should the show access-lists command be executed?', 'on the router that has the ACL configured');\n",
      "add('13. What is the quickest way to remove a single ACE from a named ACL?', 'Use the no keyword and the sequence number of the ACE to be removed.');\n",
      "add('14. Which feature will require the use of a named standard ACL rather than a numbered standard ACL?', 'the ability to add additional ACEs in the middle of the ACL without deleting and re-creating the list');\n",
      "add('15. An administrator has configured an access list on R1 to allow SSH administrative access from host 172.16.1.100. Which command correctly applies the ACL?', 'R1config-line# access-class 1 in');\n",
      "add('16. Which type of router connection can be secured by the access-class command?', 'vty');\n",
      "add('17. Consider the following output for an ACL that has been applied to a router via the access-class in command. What can a network administrator determine from the output that is shown?', 'Two devices were able to use SSH or Telnet to gain access to the router.');\n",
      "add('18. Refer to the exhibit. A router has an existing ACL that permits all traffic from the 172.16.0.0 network. The administrator attempts to add a new ACE to the ACL that denies packets from host 172.16.0.1 and receives the error message that is shown in the exhibit. What action can the administrator take to block packets from host 172.16.0.1 while still permitting all other traffic from the 172.16.0.0 network?', 'Manually add the new deny ACE with a sequence number of 5.');\n",
      "add('19. Refer to the exhibit. An ACL was configured on R1 with the intention of denying traffic from subnet 172.16.4.0/24 into subnet 172.16.3.0/24. All other traffic into subnet 172.16.3.0/24 should be permitted. This standard ACL was then applied outbound on interface Fa0/0. Which conclusion can be drawn from this configuration?', 'All traffic will be blocked, not just traffic from the 172.16.4.0/24 subnet.');\n",
      "add('20. Refer to the exhibit. What will happen to the access list 10 ACEs if the router is rebooted before any other commands are implemented?', 'The ACEs of access list 10 will be renumbered.');\n",
      "add('21. What is the effect of configuring an ACL with only ACEs that deny traffic?', 'The ACL will block all traffic.');\n",
      "add('22. Which type of ACL statements are commonly reordered by the Cisco IOS as the first ACEs?', 'host');\n",
      "add('23. A network administrator is configuring an ACL to restrict access to certain servers in the data center. The intent is to apply the ACL to the interface connected to the data center LAN. What happens if the ACL is incorrectly applied to an interface in the inbound direction instead of the outbound direction?', 'The ACL does not perform as designed.');\n",
      "add('24. When would a network administrator use the clear access-list counters command?', 'when troubleshooting an ACL and needing to know how many packets matched');\n"
     ]
    }
   ],
   "source": [
    "for i in answList:\n",
    "    print('add',tuple(i),';', sep='')"
   ]
  },
  {
   "cell_type": "code",
   "execution_count": null,
   "metadata": {
    "collapsed": true
   },
   "outputs": [],
   "source": []
  }
 ],
 "metadata": {
  "kernelspec": {
   "display_name": "Python 3",
   "language": "python",
   "name": "python3"
  },
  "language_info": {
   "codemirror_mode": {
    "name": "ipython",
    "version": 3
   },
   "file_extension": ".py",
   "mimetype": "text/x-python",
   "name": "python",
   "nbconvert_exporter": "python",
   "pygments_lexer": "ipython3",
   "version": "3.5.2+"
  }
 },
 "nbformat": 4,
 "nbformat_minor": 0
}
