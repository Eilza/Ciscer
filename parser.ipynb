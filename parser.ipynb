{
 "cells": [
  {
   "cell_type": "markdown",
   "metadata": {},
   "source": [
    "# Парсер ответов\n",
    "Использование:\n",
    "Исправить строчку \n",
    "```python\n",
    "doc = parse([url]).getroot()\n",
    "```\n",
    "Вставив вместо [url] адрес страницы, содержащей ответы.\n",
    "\n",
    "### Осторожно! Парсер работает не идеально, поэтому проверяйте ответы: открытые, многострочные и с иллюстрациями. Их приходится парсить вручную.\n",
    "### Так же желательно проверить разметку сайта перед использованием и при необходимости исправить нужным образом строчку \n",
    "```python\n",
    "doc = parse([url]).getroot()\n",
    "```"
   ]
  },
  {
   "cell_type": "code",
   "execution_count": 1,
   "metadata": {
    "collapsed": false
   },
   "outputs": [],
   "source": [
    "Answers = list()\n",
    "from lxml.html import parse\n",
    "import re\n",
    "doc = parse('http://www.ccna5.net/ccna-2-routing-and-switching-routing-and-switching-essentials-final-exam-answers/578').getroot()\n",
    "\n",
    "\n",
    "for div in doc.cssselect('strong,b'):\n",
    "    #print(div.text_content())\n",
    "    x = str(div.text_content())\n",
    "    x = re.sub('[\\n\\t(\\xa0)(\\u200b)]','',x)\n",
    "    #print(re.search('[\\?\\*]',x))\n",
    "    if not re.search('[\\?\\*]',x):\n",
    "    #if x.find('?') == -1 and x.find('*') == -1:\n",
    "        continue\n",
    "    if not x.isspace():\n",
    "        Answers.append(x)\n",
    "\n",
    "# Answers"
   ]
  },
  {
   "cell_type": "code",
   "execution_count": 10,
   "metadata": {
    "collapsed": false
   },
   "outputs": [],
   "source": [
    "answList = list()\n",
    "for i in Answers:\n",
    "    if i.find('?') > 0:\n",
    "        answ = list()\n",
    "        answList.append(answ)\n",
    "        answ.append(i)\n",
    "    else:\n",
    "        answ.append(i.replace('*',''))"
   ]
  },
  {
   "cell_type": "code",
   "execution_count": 11,
   "metadata": {
    "collapsed": false
   },
   "outputs": [],
   "source": [
    "#answList\n",
    "#for answ in answList:\n",
    "#    for token in answ:\n",
    "        "
   ]
  },
  {
   "cell_type": "code",
   "execution_count": 12,
   "metadata": {
    "collapsed": false
   },
   "outputs": [
    {
     "name": "stdout",
     "output_type": "stream",
     "text": [
      "add(' What are two features of a link-state routing protocol? Choose two.', 'Routers send triggered updates in response to a change.Routers create a topology of the network by using information from other routers. ');\n",
      "add(' Which switching method drops frames that fail the FCS check?', 'store-and-forward switching');\n",
      "add(' Which summary IPv6 static route statement can be configured to summarize only the routes to networks 2001:db8:cafe::/58 through 2001:db8:cafe:c0::/58?', 'ipv6 route 2001:db8:cafe::/56 S0/0/0', '3');\n",
      "add(' When a Cisco switch receives untagged frames on a 802.1Q trunk port, which VLAN ID is the traffic switched to by default?', 'native VLAN ID ');\n",
      "add(' A college marketing department has a networked storage device that uses the IP address 10.18.7.5, TCP port 443 for encryption, and UDP port 4365 for video streaming. The college already uses PAT on the router that connects to the Internet. The router interface has the public IP address of 209.165.200.225/30. The IP NAT pool currently uses the IP addresses ranging from 209.165.200.228-236. Which configuration would the network administrator add to allow this device to be accessed by the marketing personnel from home?', 'ip nat inside source static tcp 10.18.7.5 443 209.165.200.225 443ip nat inside source static udp 10.18.7.5 4365 209.165.200.225 4365');\n",
      "add(' Which statement describes a route that has been learned dynamically?', 'It is automatically updated and maintained by routing protocols.');\n",
      "add(' A network administrator is explaining to a junior colleague the use of the lt and gt keywords when filtering packets using an extended ACL. Where would the lt or gt keywords be used?', 'in an IPv4 extended ACL that allows packets from a range of TCP ports destined for a specific network device');\n",
      "add('Refer to the exhibit. How did the router obtain the last route that is shown?', 'Another router in the same organization provided the default route by using a dynamic routing protocol.');\n",
      "add('Refer to the exhibit. A Layer 3 switch routes for three VLANs and connects to a router for Internet connectivity. Which two configurations would be applied to the switch? Choose two.', 'config# interface gigabitethernet 1/1config-if# no switchport', 'config# ip routing');\n",
      "add(' A network contains multiple VLANs spanning multiple switches. What happens when a device in VLAN 20 sends a broadcast Ethernet frame?', 'Only devices in VLAN 20 see the frame.');\n",
      "add(' Which two packet filters could a network administrator use on an IPv4 extended ACL? Choose two.', 'ICMP message type destination UDP port number');\n",
      "add('Refer to the exhibit. R1 was configured with the static route command ip route 209.165.200.224 255.255.255.224 S0/0/0 and consequently users on network 172.16.0.0/16 are unable to reach resources on the Internet. How should this static route be changed to allow user traffic from the LAN to reach the Internet?', 'Change the destination network and mask to 0.0.0.0 0.0.0.0');\n",
      "add(' How is the router ID for an OSPFv3 router determined?', 'the highest IPv4 address on an active interface');\n",
      "add(' Two employees in the Sales department work different shifts with their laptop computers and share the same Ethernet port in the office. Which set of commands would allow only these two laptops to use the Ethernet port and create violation log entry without shutting down the port if a violation occurs?', 'switchport mode accessswitchport port-securityswitchport port-security maximum 2switchport port-security mac-address stickyswitchport port-security violation restrict');\n",
      "add(' Which two factors are important when deciding which interior gateway routing protocol to use? Choose two.', 'speed of convergence scalability', 'level 1 parent route');\n",
      "add(' What caused the following error message to appear?', 'Port security was enabled on the switch port, and an unauthorized connection was made on switch port Fa0/8.');\n",
      "add(' Which two statements are characteristics of routed ports on a multilayer switch? Choose two.', 'In a switched network, they are mostly configured between switches at the core and distribution layers.', 'They are not associated with a particular VLAN.');\n",
      "add(' A network administrator is adding ACLs to a new IPv6 multirouter environment. Which IPv6 ACE is automatically added implicitly at the end of an ACL so that two adjacent routers can discover each other?', 'permit icmp any any nd-na');\n",
      "add(' What does the cost of an OSPF link indicate?', 'A lower cost indicates a better path to the destination than a higher cost does.');\n",
      "add('Refer to the exhibit. The Gigabit interfaces on both routers have been configured with subinterface numbers that match the VLAN numbers connected to them. PCs on VLAN 10 should be able to print to the P1 printer on VLAN 12. PCs on VLAN 20 should print to the printers on VLAN 22. What interface and in what direction should you place a standard ACL that allows printing to P1 from data VLAN 10, but stops the PCs on VLAN 20 from using the P1 printer? Choose two.', 'outbound', 'R1 Gi0/1.12');\n",
      "add(' On a switch that is configured with multiple VLANs, which command will remove only VLAN 100 from the switch?', 'Switchconfig# no vlan 100');\n",
      "add(' A router needs to be configured to route within OSPF area 0. Which two commands are required to accomplish this? Choose two.', 'RouterAconfig# router ospf 1', 'RouterAconfig-router# network 192.168.2.0 0.0.0.255 area 0 ');\n",
      "add(' What is a function of the distribution layer?', 'interconnection of large-scale networks in wiring closets ');\n",
      "add(' A small-sized company has 20 workstations and 2 servers. The company has been assigned a group of IPv4 addresses 209.165.200.224/29 from its ISP. What technology should the company implement in order to allow the workstations to access the services over the Internet?', 'dynamic NAT');\n",
      "add(' Which three requirements are necessary for two OSPFv2 routers to form an adjacency? Choose three.', 'The link interface subnet masks must match.', 'The two routers must include the inter-router link network in an OSPFv2 network command. ', 'The OSPF hello or dead timers on each router must match. ');\n",
      "add(' Which three pieces of information does a link-state routing protocol use initially as link-state information for locally connected links? Choose three.', 'the cost of that link', 'the type of network link ', 'the link router interface IP address and subnet mask');\n",
      "add(' What is a disadvantage of NAT?', 'There is no end-to-end addressing.');\n",
      "add('Refer to the exhibit. The partial configuration that is shown was used to configure router on a stick for VLANS 10, 30, and 50. However, testing shows that there are some connectivity problems between the VLANs. Which configuration error is causing this problem?', 'The wrong VLAN has been configured on subinterface Fa0/0.50. ');\n",
      "add('Refer to the exhibit. R1 has been configured as shown. However, PC1 is not able to receive an IPv4 address. What is the problem?', 'The ip helper-address command was applied on the wrong interface.');\n",
      "add(' What best describes the operation of distance vector routing protocols?', 'They send their routing tables to directly connected neighbors. ');\n",
      "add(' A network administrator is using the router-on-a-stick method to configure inter-VLAN routing. Switch port Gi1/1 is used to connect to the router. Which command should be entered to prepare this port for the task?', 'Switchconfig# interface gigabitethernet 1/1Switchconfig-if# switchport mode trunk');\n",
      "add(' Which three advantages are provided by static routing? Choose three.', 'The path a static route uses to send data is known.', 'Static routing does not advertise over the network, thus providing better security.', 'Static routing typically uses less network bandwidth and fewer CPU operations than dynamic routing does. ');\n",
      "add(' When configuring a switch to use SSH for virtual terminal connections, what is the purpose of the crypto key generate rsa command?', 'create a public and private key pair ');\n",
      "add(' Which information does a switch use to populate the MAC address table?', 'the source MAC address and the incoming port ');\n",
      "add('Refer to the exhibit. A network administrator is configuring a router as a DHCPv6 server. The administrator issues a show ipv6 dhcp pool command to verify the configuration. Which statement explains the reason that the number of active clients is 0?', 'The state is not maintained by the DHCPv6 server under stateless DHCPv6 operation.');\n",
      "add(' What is the problem preventing PC0 and PC1 from communicating with PC2 and PC3?', 'The serial interfaces of the routers are in different subnets.');\n",
      "add('Which command will create a static route on R2 in order to reach PC B?', 'R1config# ip route 172.16.2.0 255.255.255.0 172.16.3.1');\n",
      "add(' Which problem is evident if the show ip interface command shows that the interface is down and the line protocol is down?', 'A cable has not been attached to the port.');\n",
      "add(' Which three values or sets of values are included when creating an extended access control list entry? Choose three.', 'access list number between 100 and 199 ', 'source address and wildcard mask', 'destination address and wildcard mask');\n",
      "add(' A network administrator is designing an ACL. The networks 192.168.1.0/25, 192.168.0.0/25, 192.168.0.128/25, 192.168.1.128/26, and 192.168.1.192/26 are affected by the ACL. Which wildcard mask, if any, is the most efficient to use when specifying all of these networks in a single ACL permit entry?', '0.0.1.255 ');\n",
      "add(' Which kind of message is sent by a DHCP client when its IP address lease has expired?', 'a DHCPREQUEST unicast message ');\n",
      "add(' What happens immediately after two OSPF routers have exchanged hello packets and have formed a neighbor adjacency?', 'They exchange abbreviated lists of their LSDBs');\n",
      "add(' What benefit does NAT64 provide?', 'It allows sites to connect IPv6 hosts to an IPv4 network by translating the IPv6 addresses to IPv4 addresses. ');\n",
      "add(' What is the purpose of setting the native VLAN separate from data VLANs?', 'A separate VLAN should be used to carry uncommon untagged frames to avoid bandwidth contention on data VLANs. ');\n",
      "add(' Which command, when issued in the interface configuration mode of a router, enables the interface to acquire an IPv4 address automatically from an ISP, when that link to the ISP is enabled?', 'ip address dhcp');\n",
      "add(' Which statement is correct about IPv6 routing?', 'IPv6 uses the link-local address of neighbors as the next-hop address for dynamic routes. ');\n",
      "add(' A router has used the OSPF protocol to learn a route to the 172.16.32.0/19 network. Which command will implement a backup floating static route to this network?', 'ip route 172.16.32.0 255.255.224.0 S0/0/0 200 ');\n",
      "add('Refer to the exhibit. How many broadcast and collision domains exist in the topology?', '5 broadcast domains and 10 collision domains');\n",
      "add(' Which two commands can be used to verify the content and placement of access control lists? Choose two.', 'show access-lists', 'show running-config');\n",
      "add(' Which type of traffic would most likely have problems when passing through a NAT device?', 'IPsec');\n",
      "add('Which keyword is displayed on the web browser?', 'Welldone!');\n",
      "add('What summary static address would be configured on R1 to advertise to R3?', '192.168.0.0/22');\n",
      "add('59. A network technician has been asked to secure all switches in the campus network. The security requirements are for each switch to automatically learn and add MAC addresses to both the address table and the running configuration. Which port security configuration will meet these requirements?', 'sticky secure MAC addresses');\n",
      "add('60. Which three pairs of trunking modes will establish a functional trunk link between two Cisco switches? Choose three.', 'dynamic desirable – dynamic auto', 'dynamic desirable – dynamic desirable', 'dynamic desirable – trunk');\n",
      "add('62. Which value represents the “trustworthiness” of a route and is used to determine which route to install into the routing table when there are multiple routes toward the same destination?', 'administrative distance');\n",
      "add('63. Which type of router memory temporarily stores the running configuration file and ARP table?', 'RAM');\n",
      "add('66. Refer to the exhibit. If the switch reboots and all routers have to re-establish OSPF adjacencies, which routers will become the new DR and BDR?', 'Router R4 will become the DR and router R3 will become the BDR.');\n",
      "add('67. What is the purpose of an access list that is created as part of configuring IP address translation?', 'The access list defines the private IP addresses that are to be translated.');\n",
      "add('68. The computers used by the network administrators for a school are on the 10.7.0.0/27 network. Which two commands are needed at a minimum to apply an ACL that will ensure that only devices that are used by the network administrators will be allowed Telnet access to the routers? Choose two.', '-access-list 5 permit 10.7.0.0 0.0.0.31', '-access-class 5 in');\n",
      "add('69. While analyzing log files, a network administrator notices reoccurring native VLAN mismatches. What is the effect of these reoccurring errors?', 'The control and management traffic on the error-occurring trunk port is being misdirected or dropped.');\n",
      "add('70. Which two characteristics describe the native VLAN? Choose two.', 'The native VLAN provides a common identifier to both ends of a trunk.', 'The native VLAN traffic will be untagged across the trunk link.');\n",
      "add('71. Refer to the exhibit. The Branch Router has an OSPF neighbor relationship with the HQ router over the 198.51.0.4/30 network. The 198.51.0.8/30 network link should serve as a backup when the OSPF link goes down. The floating static route command ip route 0.0.0.0 0.0.0.0 S0/1/1 100 was issued on Branch and now traffic is using the backup link even when the OSPF link is up and functioning. Which change should be made to the static route command so that traffic will only use the OSPF link when it is up?', 'Change the administrative distance to 120.');\n",
      "add('72. Refer to the exhibit. An attacker on PC X sends a frame with two 802.1Q tags on it, one for VLAN 40 and another for VLAN 12. What will happen to this frame?', 'SW-A will remove both tags and forward the rest of the frame across the trunk link, where SW-B will forward the frame to hosts on VLAN 40.');\n",
      "add('73. Which statement is true about the difference between OSPFv2 and OSPFv3?', 'OSPFv3 routers do not need to have matching subnets to form neighbor adjacencies.');\n",
      "add('74. What are two ways of turning off DTP on a trunk link between switches? Choose two.', 'Configure attached switch ports with the nonegotiate command option.', 'Place the two attached switch ports in access mode.');\n",
      "add('75. Why would an administrator use a network security auditing tool to flood the switch MAC address table with fictitious MAC addresses?', 'to determine which ports are not correctly configured to prevent MAC address flooding');\n",
      "add('76. A new network policy requires an ACL to deny HTTP access from all guests to a web server at the main office. All guests use addressing from the IPv6 subnet 2001:DB8:19:C::/64. The web server is configured with the address 2001:DB8:19:A::105/64. Implementing the NoWeb ACL on the interface for the guest LAN requires which three commands? Choose three.', 'deny tcp any host 2001:DB8:19:A::105 eq 80', 'permit ipv6 any any');\n",
      "add('77. An OSPF router has three directly connected networks; 172.16.0.0/16, 172.16.1.0/16, and 172.16.2.0/16. Which OSPF network command would advertise only the 172.16.1.0 network to neighbors?', 'routerconfig-router# network 172.16.1.0 0.0.255.255 area 0');\n",
      "add('Refer to the exhibit. Which type of route is172.16.0.0/16?', 'level 1 parent route');\n",
      "add('Refer to the exhibit. Which type of IPv6 static route is configured in the exhibit?', 'recursive static route');\n",
      "add('80. Which subnet mask would be used as the classful mask for the IP address 192.135.250.27?', '255.255.255.0');\n",
      "add('81. Which subnet mask would be used as the classful mask for the IP address 128.107.52.27?', '255.255.0.0');\n",
      "add('82. Refer to the exhibit. A small business uses VLANs 8, 20, 25, and 30 on two switches that have a trunk link between them. What native VLAN should be used on the trunk if Cisco best practices are being implemented?', '5');\n",
      "add('83. The buffers for packet processing and the running configuration file are temporarily stored in which type of router memory?', 'RAM');\n",
      "add('84. A network technician is configuring port security on switches. The interfaces on the switches are configured in such a way that when a violation occurs, packets with unknown source address are dropped and no notification is sent. Which violation mode is configured on the interfaces?', 'protect');\n",
      "add('85. A standard ACL has been configured on a router to allow only clients from the 10.11.110.0/24 network to telnet or to ssh to the VTY lines of the router. Which command will correctly apply this ACL?', 'access-group 11 in');\n",
      "add('What address will summarize the LANs attached to routers 2-A and 3-A and can be configured in a summary static route to advertise them to an upstream neighbor?', '10.0.0.0/21');\n",
      "add('87. A security specialist designs an ACL to deny access to a web server from all sales staff. The sales staff are assigned addressing from the IPv6 subnet 2001:db8:48:2c::/64. The web server is assigned the address 2001:db8:48:1c::50/64. Configuring the WebFilter ACL on the LAN interface for the sales staff will require which three commands? Choose three.', 'deny tcp host 2001:db8:48:1c::50 any eq 80', 'deny tcp any host 2001:db8:48:1c::50 eq 80', 'deny ipv6 any any');\n",
      "add('88. To enable RIP routing for a specific subnet, the configuration command network 192.168.5.64 was entered by the network administrator. What address, if any, appears in the running configuration file to identify this network?', '192.168.5.0');\n",
      "add('89. Refer to the exhibit. An ACL preventing FTP and HTTP access to the interval web server from all teaching assistants has been implemented in the Board Office. The address of the web server is 172.20.1.100 and all teaching assistants are assigned addresses in the 172.21.1.0/24 network. After implement the ACL, access to all servers is denied. What is the problem?', 'named ACLs requite the use of port numbers');\n",
      "add('90. Refer to the exhibit. Assuming that the routing tables are up to date and no ARP messages are needed, after a packet leaves H1, how many times is the L2 header rewritten in the path to H2?', '2');\n",
      "add('91. A router learns of multiple toward the same destination. Which value in a routing table represents the trustworthiness of learned routes and is used by the router to determine which route to install into the routing table for specific situation?', 'Metric');\n",
      "add('92. What is the minimum configuration for a router interface that is participating in IPv6 routing?', 'To have only a link-local IPv6 address');\n",
      "add('93. Which two statements are true about half-duplex and full-duplex communications? Choose two.', 'Full duplex offers 100 percent potential use of the bandwidth.', 'Full duplex allows both ends to transmit and receive simultaneously.');\n",
      "add('95. Which two commands should be implemented to return a Cisco 3560 trunk port to its default configuration? Choose two.', 'S1config-if# no switchport trunk allowed vlan', 'S1config-if# no switchport trunk native vlan');\n",
      "add('96. Which command will enable auto-MDIX on a device?', 'S1config-if# mdix auto');\n",
      "add('97. What is the effect of issuing the passive-interface default command on a router that is configured for OSPF?', 'It prevents OSPF messages from being sent out any OSPF-enabled interface.');\n",
      "add('98. A network administrator is implementing a distance vector routing protocol between neighbors on the network. In the context of distance vector protocols, what is a neighbor?', 'routers that share a link and use the same routing protocol');\n",
      "add('99. Refer to the exhibit. A network administrator has just configured address translation and is verifying the configuration. What three things can the administrator verify? Choose three.', 'Address translation is working.', 'A standard access list numbered 1 was used as part of the configuration process.', 'Two types of NAT are enabled.');\n",
      "add('101. Which two methods can be used to provide secure management access to a Cisco switch? Choose two.', 'Configure specific ports for management traffic on a specific VLAN.', 'Configure SSH for remote management.');\n",
      "add('Refer to the exhibit. Which highlighted value represents a specific destination network in the routing table?', '10.16.100.128');\n",
      "add('Refer to the exhibit. If RIPng is enabled, how many hops away does R1 consider the 2001:0DB8:ACAD:1::/64 network to be?', '3');\n",
      "add('Refer to the exhibit. Host A has sent a packet to host B. What will be the source MAC and IP addresses on the packet when it arrives at host B?', 'Source IP: 10.1.1.10');\n",
      "add('105. Which network design may be recommended for a small campus site that consists of a single building with a few users?', 'a collapsed core network design');\n",
      "add('106.Refer to the exhibit. A small business uses VLANs 2, 3, 4, and 5 between two switches that have a trunk link between them. What native VLAN should be used on the trunk if Cisco best practices are being implemented?', '5');\n",
      "add('107.A router learns of multiple routes toward the same destination. Which value in a routing table represents the trustworthiness of learned routes and is used by the router to determine which route to install into the routing table for this specific situation?', 'administrative distance');\n",
      "add('108. Which value in a routing table represents trustworthiness and is used by the router to determine which route to install into the routing table when there are multiple routes toward the same destination?', 'administrative distance');\n",
      "add('109. The network address 172.18.9.128 with netmask 255.255.255.128 is matched by which wildcard mask?', '0.0.0.127');\n",
      "add('110. Which three addresses could be used as the destination address for OSPFv3 messages? Choose three.', 'FF02::5', 'FF02::6', 'FE80::1');\n",
      "add('111. Refer to the exhibit. What is the OSPF cost to reach the West LAN 172.16.2.0/24 from East?', '65');\n",
      "add('112. Refer to the exhibit. What is the OSPF cost to reach the R2 LAN 172.16.2.0/24 from R1?',);\n",
      "add('113. A network administrator is configuring port security on a Cisco switch. The company security policy specifies that when a violation occurs, packets with unknown source addresses should be dropped and no notification should be sent. Which violation mode should be configured on the interfaces?',);\n",
      "add('114. A network administrator is configuring an ACL with the command access-list 10 permit 172.16.32.0 0.0.15.255. Which IPv4 address matches the ACE?',);\n",
      "add('115. What are two reasons that will prevent two routers from forming an OSPFv2 adjacency? Choose two.',);\n",
      "add('116. Refer to the exhibit. The network administrator needs as many switch ports as possible for end devices and the business is using the most common type of inter-VLAN method. What type of inter-VLAN interconnectivity is best to use between the switch and the router if R1 routes for all VLANs?',);\n",
      "add('117. As part of the new security policy, all switches on the network are configured to automatically learn MAC addresses for each port. All running configurations are saved at the start and close of every business day. A severe thunderstorm causes an extended power outage several hours after the close of business. When the switches are brought back online, the dynamically learned MAC addresses are retained. Which port security configuration enabled this?',);\n",
      "add('118. Refer to the exhibit. An ACL preventing FTP and HTTP access to the internal web server from all teaching assistants has been implemented in the Board office. The address of the web server is 172.20.1.100 and all teaching assistants are assigned addresses in the 172.21.1.0/24 network. After implementing the ACL, access to all servers is denied. What is the problem?',);\n",
      "add('119. Refer to the exhibit. A new network policy requires an ACL denying FTP and Telnet access to a Corp file server from all interns. The address of the file server is 172.16.1.15 and all interns are assigned addresses in the 172.18.200.0/24 network. After implementing the ACL, no one in the Corp network can access any of the servers. What is the problem?',);\n"
     ]
    }
   ],
   "source": [
    "for i in answList:\n",
    "    print('add',tuple(i),';', sep='')"
   ]
  }
 ],
 "metadata": {
  "kernelspec": {
   "display_name": "Python 3",
   "language": "python",
   "name": "python3"
  },
  "language_info": {
   "codemirror_mode": {
    "name": "ipython",
    "version": 3
   },
   "file_extension": ".py",
   "mimetype": "text/x-python",
   "name": "python",
   "nbconvert_exporter": "python",
   "pygments_lexer": "ipython3",
   "version": "3.5.2+"
  }
 },
 "nbformat": 4,
 "nbformat_minor": 0
}
